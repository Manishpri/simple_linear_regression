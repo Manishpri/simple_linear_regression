{
 "cells": [
  {
   "cell_type": "code",
   "execution_count": 24,
   "metadata": {},
   "outputs": [],
   "source": [
    "#import library \n",
    "import csv\n",
    "import numpy as np\n",
    "import pandas as pd\n",
    "from matplotlib import pyplot as plt\n",
    "from sklearn import linear_model\n"
   ]
  },
  {
   "cell_type": "code",
   "execution_count": 25,
   "metadata": {},
   "outputs": [],
   "source": [
    "#load csv file\n",
    "df = pd.read_csv(\"Housing.csv\")\n",
    "df.head()\n",
    "df.describe()\n",
    "x = df['lotsize']\n",
    "y = df['price']\n",
    "x = np.array(x).reshape(-1, 1)\n",
    "y = np.array(y)"
   ]
  },
  {
   "cell_type": "code",
   "execution_count": 26,
   "metadata": {},
   "outputs": [],
   "source": [
    "#splite the data into training\\testing sets\n",
    "x_train = x[:-250]\n",
    "x_test = x[-250:]"
   ]
  },
  {
   "cell_type": "code",
   "execution_count": 27,
   "metadata": {},
   "outputs": [],
   "source": [
    "#spltite the target into training/testing sets\n",
    "y_train = y[:-250]\n",
    "y_test = y[-250:]"
   ]
  },
  {
   "cell_type": "code",
   "execution_count": 28,
   "metadata": {},
   "outputs": [
    {
     "data": {
      "image/png": "[encoded data removed]",
      "text/plain": [
       "<Figure size 432x288 with 1 Axes>"
      ]
     },
     "metadata": {},
     "output_type": "display_data"
    }
   ],
   "source": [
    "#plot scatter\n",
    "plt.scatter(x_test,y_test,color='black')\n",
    "plt.title('test data')\n",
    "plt.xlabel('size')\n",
    "plt.ylabel('price')\n",
    "plt.xticks([])\n",
    "plt.yticks([])\n",
    "#create our linear regression model\n",
    "regr = linear_model.LinearRegression()\n",
    "##training the model using the training sets\n",
    "regr.fit(x_train,y_train)\n",
    "#plot output\n",
    "plt.plot(x_test,regr.predict(x_test),color='red',linewidth=3)\n",
    "plt.show()"
   ]
  },
  {
   "cell_type": "code",
   "execution_count": 29,
   "metadata": {},
   "outputs": [
    {
     "name": "stdout",
     "output_type": "stream",
     "text": [
      "File has been created sucessfully and saved in Present Working Directory.\n"
     ]
    }
   ],
   "source": [
    "# Writing the results in csv file \"predictedPrice.csv\"\n",
    "with open('housePrice.csv','w') as f:\n",
    "    writer = csv.writer(f)\n",
    "    writer.writerow(['price'])\n",
    "    writer.writerows(zip(x_test, np.reshape(x_test, (1,np.product(x_test.shape)))[0]))\n",
    "                                   \n",
    "print(\"File has been created sucessfully and saved in Present Working Directory.\")"
   ]
  },
  {
   "cell_type": "code",
   "execution_count": null,
   "metadata": {},
   "outputs": [],
   "source": []
  },
  {
   "cell_type": "code",
   "execution_count": null,
   "metadata": {},
   "outputs": [],
   "source": []
  },
  {
   "cell_type": "code",
   "execution_count": null,
   "metadata": {},
   "outputs": [],
   "source": []
  }
 ],
 "metadata": {
  "kernelspec": {
   "display_name": "Python 3",
   "language": "python",
   "name": "python3"
  },
  "language_info": {
   "codemirror_mode": {
    "name": "ipython",
    "version": 3
   },
   "file_extension": ".py",
   "mimetype": "text/x-python",
   "name": "python",
   "nbconvert_exporter": "python",
   "pygments_lexer": "ipython3",
   "version": "3.6.5"
  }
 },
 "nbformat": 4,
 "nbformat_minor": 2
}
